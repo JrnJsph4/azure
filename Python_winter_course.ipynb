{
  "nbformat": 4,
  "nbformat_minor": 0,
  "metadata": {
    "colab": {
      "provenance": [],
      "include_colab_link": true
    },
    "kernelspec": {
      "name": "python3",
      "display_name": "Python 3"
    },
    "language_info": {
      "name": "python"
    }
  },
  "cells": [
    {
      "cell_type": "markdown",
      "metadata": {
        "id": "view-in-github",
        "colab_type": "text"
      },
      "source": [
        "<a href=\"https://colab.research.google.com/github/JrnJsph4/azure/blob/main/Python_winter_course.ipynb\" target=\"_parent\"><img src=\"https://colab.research.google.com/assets/colab-badge.svg\" alt=\"Open In Colab\"/></a>"
      ]
    },
    {
      "cell_type": "code",
      "execution_count": null,
      "metadata": {
        "colab": {
          "base_uri": "https://localhost:8080/"
        },
        "id": "HiWw4IvZfCcf",
        "outputId": "b0441bee-db57-43f2-c946-baf06bf4a0b4"
      },
      "outputs": [
        {
          "output_type": "stream",
          "name": "stdout",
          "text": [
            "Hello python Hello python\n"
          ]
        }
      ],
      "source": [
        "print(\"Hello python Hello python\")"
      ]
    },
    {
      "cell_type": "code",
      "source": [
        "a=3  #a is a variable\n",
        "b=5\n",
        "c=a+b #c=3+5\n",
        "print(c)\n",
        "print(id(a)) #id function used to find the address or memmory location\n",
        "print(type(b))"
      ],
      "metadata": {
        "colab": {
          "base_uri": "https://localhost:8080/"
        },
        "id": "uN8cEcbkhov_",
        "outputId": "7df40231-95c7-4384-98b1-ed69f0a25f3c"
      },
      "execution_count": null,
      "outputs": [
        {
          "output_type": "stream",
          "name": "stdout",
          "text": [
            "8\n",
            "131939888038192\n",
            "<class 'int'>\n"
          ]
        }
      ]
    },
    {
      "cell_type": "code",
      "source": [
        "#immutable - value cannot be changed\n",
        "a=3\n",
        "b=5\n",
        "print(a)\n",
        "print(id(a))\n",
        "a=30\n",
        "print(a)\n",
        "print(id(a))\n",
        "#float\n",
        "x=3.5\n",
        "print(type(x))\n",
        "\n",
        "#complex\n",
        "b=3+5j\n",
        "print(type(b))\n",
        "\n",
        "#string\n",
        "abc=' learn python'\n",
        "print(abc)\n",
        "print(id(abc))\n",
        "#boolean   True 1,False 0\n",
        "y=True  #False\n",
        "print(y)\n",
        "print(type(y))"
      ],
      "metadata": {
        "colab": {
          "base_uri": "https://localhost:8080/"
        },
        "id": "uf7YiNFdi10G",
        "outputId": "19d141ea-bc91-4b7f-aa02-92a66d407e13"
      },
      "execution_count": null,
      "outputs": [
        {
          "output_type": "stream",
          "name": "stdout",
          "text": [
            "3\n",
            "131939888038192\n",
            "30\n",
            "131939888039056\n",
            "<class 'float'>\n",
            "<class 'complex'>\n",
            " learn python\n",
            "131938562560624\n",
            "True\n",
            "<class 'bool'>\n"
          ]
        }
      ]
    },
    {
      "cell_type": "code",
      "source": [
        "# Tuple\n",
        "t=(10,40,6,89,6.8,\"Python\") #enclose within (),differnt data type seperated by , ordered datatype\n",
        "print(t)\n",
        "print(t[0]) #t[index position]\n",
        "print(t[2])\n",
        "print(t[4])\n",
        "t[2]=60 #immutable"
      ],
      "metadata": {
        "colab": {
          "base_uri": "https://localhost:8080/",
          "height": 245
        },
        "id": "1jeikmScm6ob",
        "outputId": "ea0c3f73-9a0f-482e-be0a-7d7c46b0dc5d"
      },
      "execution_count": null,
      "outputs": [
        {
          "output_type": "stream",
          "name": "stdout",
          "text": [
            "(10, 40, 6, 89, 6.8, 'Python')\n",
            "10\n",
            "6\n",
            "6.8\n"
          ]
        },
        {
          "output_type": "error",
          "ename": "TypeError",
          "evalue": "'tuple' object does not support item assignment",
          "traceback": [
            "\u001b[0;31m---------------------------------------------------------------------------\u001b[0m",
            "\u001b[0;31mTypeError\u001b[0m                                 Traceback (most recent call last)",
            "\u001b[0;32m<ipython-input-19-35a3fc9668aa>\u001b[0m in \u001b[0;36m<cell line: 7>\u001b[0;34m()\u001b[0m\n\u001b[1;32m      5\u001b[0m \u001b[0mprint\u001b[0m\u001b[0;34m(\u001b[0m\u001b[0mt\u001b[0m\u001b[0;34m[\u001b[0m\u001b[0;36m2\u001b[0m\u001b[0;34m]\u001b[0m\u001b[0;34m)\u001b[0m\u001b[0;34m\u001b[0m\u001b[0;34m\u001b[0m\u001b[0m\n\u001b[1;32m      6\u001b[0m \u001b[0mprint\u001b[0m\u001b[0;34m(\u001b[0m\u001b[0mt\u001b[0m\u001b[0;34m[\u001b[0m\u001b[0;36m4\u001b[0m\u001b[0;34m]\u001b[0m\u001b[0;34m)\u001b[0m\u001b[0;34m\u001b[0m\u001b[0;34m\u001b[0m\u001b[0m\n\u001b[0;32m----> 7\u001b[0;31m \u001b[0mt\u001b[0m\u001b[0;34m[\u001b[0m\u001b[0;36m2\u001b[0m\u001b[0;34m]\u001b[0m\u001b[0;34m=\u001b[0m\u001b[0;36m60\u001b[0m \u001b[0;31m#immutable\u001b[0m\u001b[0;34m\u001b[0m\u001b[0;34m\u001b[0m\u001b[0m\n\u001b[0m",
            "\u001b[0;31mTypeError\u001b[0m: 'tuple' object does not support item assignment"
          ]
        }
      ]
    },
    {
      "cell_type": "code",
      "source": [
        "#List\n",
        "l=[2,5,7,7.9,\"Python\"] #enclosed within [], differnt data type seperated by , ordered datatype\n",
        "print(l)\n",
        "print(l[2])\n",
        "print(l[4])\n",
        "l[2]=70 #mutable\n",
        "print(l)"
      ],
      "metadata": {
        "colab": {
          "base_uri": "https://localhost:8080/"
        },
        "id": "RqRKSUDipGY9",
        "outputId": "3d7bed51-38f6-4a8c-d0e2-918988f1f24e"
      },
      "execution_count": null,
      "outputs": [
        {
          "output_type": "stream",
          "name": "stdout",
          "text": [
            "[2, 5, 7, 7.9, 'Python']\n",
            "7\n",
            "Python\n",
            "[2, 5, 70, 7.9, 'Python']\n"
          ]
        }
      ]
    },
    {
      "cell_type": "code",
      "source": [
        "#Dictionary\n",
        "d={'name':'abc','age':20} # enclosed within {}, item sperated by , key : value pair\n",
        "print(d)\n",
        "print(d.keys())\n",
        "print(d.values())"
      ],
      "metadata": {
        "colab": {
          "base_uri": "https://localhost:8080/"
        },
        "id": "vSHDGbykp57-",
        "outputId": "d9e2af70-4f6e-479f-cf11-878d4e20438a"
      },
      "execution_count": null,
      "outputs": [
        {
          "output_type": "stream",
          "name": "stdout",
          "text": [
            "{'name': 'abc', 'age': 20}\n",
            "dict_keys(['name', 'age'])\n",
            "dict_values(['abc', 20])\n"
          ]
        }
      ]
    },
    {
      "cell_type": "code",
      "source": [
        "s={3,4,7,88,4,3,7,90,561,1,45,\"Python\",True,0,False}  #enclosed within {}, differnt data type seperated by , unordered, unique element\n",
        "print(s)"
      ],
      "metadata": {
        "colab": {
          "base_uri": "https://localhost:8080/"
        },
        "id": "43iekRGnqxQx",
        "outputId": "437dd116-0326-417b-ebf5-215fd85da2fb"
      },
      "execution_count": null,
      "outputs": [
        {
          "output_type": "stream",
          "name": "stdout",
          "text": [
            "{0, 1, 3, 4, 'Python', 7, 45, 561, 88, 90}\n"
          ]
        }
      ]
    },
    {
      "cell_type": "code",
      "source": [
        "#Operators\n",
        "a=10\n",
        "b=20\n",
        "print(a+b)\n",
        "print(a-b)\n",
        "print(b-a)\n",
        "print(a*b)\n",
        "print(2*8)\n",
        "print(10/3)\n",
        "print(100/5) # '/' with decimal point\n",
        "# % operator - remainder\n",
        "print(10%3)\n",
        "print(14%3)\n",
        "print(12%3)\n",
        "print(\"--\")\n",
        "print(23456%10) # any number % 10 will give last digit\n",
        "print(456787%100) # any number % 100 will give last 2 digits\n",
        "print(340877%1000) # % 1000 will give last 3 digits"
      ],
      "metadata": {
        "colab": {
          "base_uri": "https://localhost:8080/"
        },
        "id": "_eSSO-q1tDa-",
        "outputId": "5b9d447a-f949-4556-b875-ae7ca2926a0b"
      },
      "execution_count": null,
      "outputs": [
        {
          "output_type": "stream",
          "name": "stdout",
          "text": [
            "30\n",
            "-10\n",
            "10\n",
            "200\n",
            "16\n",
            "3.3333333333333335\n",
            "20.0\n",
            "1\n",
            "2\n",
            "0\n",
            "--\n",
            "6\n",
            "87\n",
            "877\n"
          ]
        }
      ]
    },
    {
      "cell_type": "code",
      "source": [
        "print(2**4) #2x2x2x2 exponent operator\n",
        "print(3**3) #3x3x3\n",
        "print(5**6) #5x5x5x5x5x5\n",
        "print(\"-----\")\n",
        "# floor division - quotient\n",
        "print(14//3)\n",
        "print(15//2)\n",
        "print(765546//10) #  any number // 10 will remove last digit\n",
        "print(754//100) # any number // 100 will remove last 2 digits\n",
        "print(764643//1000) # any number // 1000 will remove last 3 digits"
      ],
      "metadata": {
        "colab": {
          "base_uri": "https://localhost:8080/"
        },
        "id": "c7RnPidkvS6p",
        "outputId": "c41159a9-f19e-4767-ba24-455238da98e3"
      },
      "execution_count": null,
      "outputs": [
        {
          "output_type": "stream",
          "name": "stdout",
          "text": [
            "16\n",
            "27\n",
            "15625\n",
            "-----\n",
            "4\n",
            "7\n",
            "76554\n",
            "7\n",
            "764\n"
          ]
        }
      ]
    },
    {
      "cell_type": "code",
      "source": [
        "#Relational operators always return true or false\n",
        "print(3==3)\n",
        "print(4==8)\n",
        "print(3!=9) #! is not\n",
        "\n",
        "print(\"-----\")\n",
        "a=9\n",
        "b=20\n",
        "print(a>b)\n",
        "print(a!=b)\n",
        "print(5<=20)\n",
        "print(20>=20)"
      ],
      "metadata": {
        "colab": {
          "base_uri": "https://localhost:8080/"
        },
        "id": "kEyxM99iwtOk",
        "outputId": "086029d5-db84-4c71-a0be-b3c0e76cbff0"
      },
      "execution_count": null,
      "outputs": [
        {
          "output_type": "stream",
          "name": "stdout",
          "text": [
            "True\n",
            "False\n",
            "True\n",
            "-----\n",
            "False\n",
            "True\n",
            "True\n",
            "True\n"
          ]
        }
      ]
    },
    {
      "cell_type": "code",
      "source": [
        "# membership operator -  in , not in  returns true or false\n",
        "\n",
        "l=[1,2,3,4,5]\n",
        "print(10 in l)\n",
        "print(3 in l)\n",
        "print(90 in l)\n",
        "print(77 not in l)\n",
        "print(4 not in l)\n",
        "print('----------------------')\n",
        "l1=['python','Java', 'html',99,34]\n",
        "print(99 in l1)\n",
        "print('Java' in l1)\n",
        "print('Python' in l1) #case sensitive\n",
        "print('java' not in l1)"
      ],
      "metadata": {
        "colab": {
          "base_uri": "https://localhost:8080/"
        },
        "id": "raXsHEMExspr",
        "outputId": "dbf64dce-9da6-47a4-f86c-88327967ffa6"
      },
      "execution_count": null,
      "outputs": [
        {
          "output_type": "stream",
          "name": "stdout",
          "text": [
            "False\n",
            "True\n",
            "False\n",
            "True\n",
            "False\n",
            "----------------------\n",
            "True\n",
            "True\n",
            "False\n",
            "True\n"
          ]
        }
      ]
    },
    {
      "cell_type": "code",
      "source": [
        "# logical opertaors - and, or, not\n",
        "# true and true = true, all other combinations are false   and\n",
        "print(3==3 and 2==2)\n",
        "print(3<8 and 5>9)\n",
        "print(3!=3 and 9>3)\n",
        "print(9<5 and 5<2)\n",
        "print('----------------------')\n",
        "# false or false = false, all other combinations are true\n",
        "print(3==3 or 2==2)\n",
        "print(3<8 or 5>9)\n",
        "print(3!=3 or 9>3)\n",
        "print(9<5 or 5<2)\n",
        "print('----------------------')\n",
        "#not\n",
        "print(not 3==3)\n",
        "print(not 9>3)\n",
        "print(not 5<3)"
      ],
      "metadata": {
        "colab": {
          "base_uri": "https://localhost:8080/"
        },
        "id": "cBswDa1NhwQA",
        "outputId": "54916eed-598f-48be-de43-7455f7610e4b"
      },
      "execution_count": null,
      "outputs": [
        {
          "output_type": "stream",
          "name": "stdout",
          "text": [
            "True\n",
            "False\n",
            "False\n",
            "False\n",
            "----------------------\n",
            "True\n",
            "True\n",
            "True\n",
            "False\n",
            "----------------------\n",
            "False\n",
            "False\n",
            "True\n"
          ]
        }
      ]
    },
    {
      "cell_type": "code",
      "source": [
        "# identity operator - is , is not (checks if the address or memory loaction of the variables are equal or same)\n",
        "a=100\n",
        "b=100\n",
        "print(id(a))\n",
        "print(id(b))\n",
        "print(a is b) #memory is same\n",
        "print(a==b)\n",
        "\n",
        "l1=[10,20,30]\n",
        "l2=[10,20,30]\n",
        "print(id(l1))\n",
        "print(id(l2))\n",
        "print(l1==l2)\n",
        "print(l1 is l2) #memory location is not same"
      ],
      "metadata": {
        "colab": {
          "base_uri": "https://localhost:8080/"
        },
        "id": "NvgndP49jS5M",
        "outputId": "f55b65f9-a401-4b9f-9e8d-6aa11162ca03"
      },
      "execution_count": null,
      "outputs": [
        {
          "output_type": "stream",
          "name": "stdout",
          "text": [
            "134939547438416\n",
            "134939547438416\n",
            "True\n",
            "True\n",
            "134939132762816\n",
            "134939115104896\n",
            "True\n",
            "False\n"
          ]
        }
      ]
    },
    {
      "cell_type": "code",
      "source": [
        "#String\n",
        "s=\"Python sample string here\"\n",
        "print(s[0])\n",
        "print(s[3])\n",
        "print(s[7])\n",
        "print(s[6])\n",
        "print(s[-1])\n",
        "print(s[-2])\n",
        "\n",
        "print(s[1:5]) #ytho\n",
        "print(s[3:8]) #hon s\n",
        "print(s[6:11]) # samp\n",
        "print(s[:7]) #Python\n",
        "print(s[7:]) #sample string here\n",
        "print(s[0:9:2])\n",
        "print(s[::-1]) #reverse of the string"
      ],
      "metadata": {
        "colab": {
          "base_uri": "https://localhost:8080/"
        },
        "id": "Vo--Trv7kQMB",
        "outputId": "8c4c12e9-d74d-4f59-8a56-38228aecbe07"
      },
      "execution_count": null,
      "outputs": [
        {
          "output_type": "stream",
          "name": "stdout",
          "text": [
            "P\n",
            "h\n",
            "s\n",
            " \n",
            "e\n",
            "r\n",
            "ytho\n",
            "hon s\n",
            " samp\n",
            "Python \n",
            "sample string here\n",
            "Pto a\n",
            "ereh gnirts elpmas nohtyP\n"
          ]
        }
      ]
    },
    {
      "cell_type": "code",
      "source": [
        "s=\"python SaMple string Here\"\n",
        "print(s*7) #repeat the string\n",
        "print(s[0:6] + \" änd Java \" + s[14:20]) #concatenation or combining strings\n",
        "s=\"python SaMple string Here\"\n",
        "print(\"string\" in s)\n",
        "print(s.upper()) #all upper case\n",
        "print(s.lower()) #all lower case\n",
        "print(s.capitalize()) #Only first character is capital\n",
        "print(s.title()) #first character of every word is capital, others small\n",
        "\n",
        "sample=\"PYTHON SAMPLE STRING HERE\"\n",
        "print(sample.isupper())\n",
        "print(sample.islower())\n",
        "print(sample.istitle())"
      ],
      "metadata": {
        "colab": {
          "base_uri": "https://localhost:8080/"
        },
        "id": "f4-sKyt8oRZh",
        "outputId": "cc1f64fa-6dbb-4222-b1c4-739b69032de6"
      },
      "execution_count": null,
      "outputs": [
        {
          "output_type": "stream",
          "name": "stdout",
          "text": [
            "python SaMple string Herepython SaMple string Herepython SaMple string Herepython SaMple string Herepython SaMple string Herepython SaMple string Herepython SaMple string Here\n",
            "python änd Java string\n",
            "True\n",
            "PYTHON SAMPLE STRING HERE\n",
            "python sample string here\n",
            "Python sample string here\n",
            "Python Sample String Here\n",
            "True\n",
            "False\n",
            "False\n"
          ]
        }
      ]
    },
    {
      "cell_type": "code",
      "source": [
        "#split and join\n",
        "\n",
        "x=\"HTML@ CSS@ JAVA@ Python\"\n",
        "l=x.split(\"@\")\n",
        "print(l)\n",
        "\n",
        "x1=(\"@@@\").join(l)\n",
        "print(x1)"
      ],
      "metadata": {
        "colab": {
          "base_uri": "https://localhost:8080/"
        },
        "id": "-ZimebBup8AZ",
        "outputId": "4ff06a14-48c4-479f-9e79-45e882e4a29d"
      },
      "execution_count": null,
      "outputs": [
        {
          "output_type": "stream",
          "name": "stdout",
          "text": [
            "['HTML', ' CSS', ' JAVA', ' Python']\n",
            "HTML@@@ CSS@@@ JAVA@@@ Python\n"
          ]
        }
      ]
    },
    {
      "cell_type": "code",
      "source": [
        "x=\"HTML, CSS, JAVA, Python\"\n",
        "print(x.index(\"Python\")) #gives the index position of first character of the string passed\n",
        "print(x[17])\n",
        "# print(x.index(\"html\")) #will throw error if the string passed is not present\n",
        "print(x.find(\"Python\"))\n",
        "print(x.find(\"html\")) #will not throw error if the string passed is not present"
      ],
      "metadata": {
        "colab": {
          "base_uri": "https://localhost:8080/"
        },
        "id": "5QVnv77PrXNF",
        "outputId": "f44d801d-9555-45ad-a6e1-a79502e4c8f5"
      },
      "execution_count": null,
      "outputs": [
        {
          "output_type": "stream",
          "name": "stdout",
          "text": [
            "17\n",
            "P\n",
            "17\n",
            "-1\n"
          ]
        }
      ]
    },
    {
      "cell_type": "code",
      "source": [
        "x=\"HTML, CSS, JAVA, Python, HTML, HTML\"\n",
        "x1=x.replace(\"HTML,\",\"ABC\")\n",
        "print(x1)\n",
        "print(x.count(\"HTML\"))\n",
        "print(x.count(\"abc\"))\n",
        "print(x.count(\"HTML\",10,len(x)))"
      ],
      "metadata": {
        "colab": {
          "base_uri": "https://localhost:8080/"
        },
        "id": "qwUEhQBpsYBj",
        "outputId": "6f593304-9cfa-493b-d37e-f7db60d8ae14"
      },
      "execution_count": null,
      "outputs": [
        {
          "output_type": "stream",
          "name": "stdout",
          "text": [
            "ABC CSS, JAVA, Python, ABC HTML\n",
            "3\n",
            "0\n",
            "2\n"
          ]
        }
      ]
    },
    {
      "cell_type": "code",
      "source": [
        "#tuples - immutable\n",
        "t=(1,2,3,4,5,5.6,\"Python\",3,3,3)\n",
        "print(t[0])\n",
        "print(t[6])\n",
        "print(t[1:6]) #2, 3, 4, 5, 5.6\n",
        "print(t[:6])\n",
        "print(t[3:])\n",
        "print(t.index(3))\n",
        "print(t.count(3))"
      ],
      "metadata": {
        "colab": {
          "base_uri": "https://localhost:8080/"
        },
        "id": "jvPEi2XrudVm",
        "outputId": "c2bfcd73-64f6-49d5-aec6-ecf97bfec97e"
      },
      "execution_count": null,
      "outputs": [
        {
          "output_type": "stream",
          "name": "stdout",
          "text": [
            "1\n",
            "Python\n",
            "(2, 3, 4, 5, 5.6)\n",
            "(1, 2, 3, 4, 5, 5.6)\n",
            "(4, 5, 5.6, 'Python', 3, 3, 3)\n",
            "2\n",
            "4\n"
          ]
        }
      ]
    },
    {
      "cell_type": "code",
      "source": [
        "t=(1,2,3,4,5,5.6,\"Python\",3,3,3)\n",
        "print(len(t))\n",
        "print(t*3)\n",
        "print(20 in t)\n",
        "print(t[::-1]) #reverse of tuple"
      ],
      "metadata": {
        "colab": {
          "base_uri": "https://localhost:8080/"
        },
        "id": "7EqN6e6pvqeA",
        "outputId": "7dd7bf86-7446-4d6d-a863-dc3a5f917a9d"
      },
      "execution_count": null,
      "outputs": [
        {
          "output_type": "stream",
          "name": "stdout",
          "text": [
            "10\n",
            "(1, 2, 3, 4, 5, 5.6, 'Python', 3, 3, 3, 1, 2, 3, 4, 5, 5.6, 'Python', 3, 3, 3, 1, 2, 3, 4, 5, 5.6, 'Python', 3, 3, 3)\n",
            "False\n",
            "(3, 3, 3, 'Python', 5.6, 5, 4, 3, 2, 1)\n"
          ]
        }
      ]
    },
    {
      "cell_type": "code",
      "source": [
        "t=(4,7,3,56,76,34,89)\n",
        "print(sorted(t))\n",
        "l=list(t) #tuple to list\n",
        "print(l)\n",
        "t1=tuple(l) #list to tuple\n",
        "print(t1)"
      ],
      "metadata": {
        "colab": {
          "base_uri": "https://localhost:8080/"
        },
        "id": "YRQoMea_wNAg",
        "outputId": "8c08a17d-080d-40e6-945b-5c376b839abd"
      },
      "execution_count": null,
      "outputs": [
        {
          "output_type": "stream",
          "name": "stdout",
          "text": [
            "[3, 4, 7, 34, 56, 76, 89]\n",
            "[4, 7, 3, 56, 76, 34, 89]\n",
            "(4, 7, 3, 56, 76, 34, 89)\n"
          ]
        }
      ]
    },
    {
      "cell_type": "code",
      "source": [
        "#List -  mutable\n",
        "l=[3,6,8,9,45,67]\n",
        "print(l[3]) #9\n",
        "print(l[2:6]) # 8,9,45,67\n",
        "print(l[:4]) #3,6,8,9\n",
        "print(l[3:]) #9,45,67\n",
        "print(l[::-1]) #67,45,9,8,6,3"
      ],
      "metadata": {
        "colab": {
          "base_uri": "https://localhost:8080/"
        },
        "id": "9wM0uljwxE4a",
        "outputId": "64d4a431-638f-44cc-d58d-b63dc619ccfa"
      },
      "execution_count": null,
      "outputs": [
        {
          "output_type": "stream",
          "name": "stdout",
          "text": [
            "9\n",
            "[8, 9, 45, 67]\n",
            "[3, 6, 8, 9]\n",
            "[9, 45, 67]\n",
            "[67, 45, 9, 8, 6, 3]\n"
          ]
        }
      ]
    },
    {
      "cell_type": "code",
      "source": [
        "l=[3,6,8,9,45,67,45]\n",
        "l[2]=80\n",
        "l.append(100) # add one element to the end of the list\n",
        "l.append(200)\n",
        "print(l)\n",
        "l.append(300)\n",
        "print(l)\n",
        "print('----------------------')\n",
        "l.extend([50,60,70,80,90]) # any number of elements to the end of the list\n",
        "print(l)\n",
        "\n",
        "l.insert(3,1000) #inserting and shifting elements to right\n",
        "l.insert(8,2000)\n",
        "print(l)\n",
        "l[3]=3000 #replacing\n",
        "print(l)\n",
        "\n",
        "l.pop() #last element\n",
        "print(l)\n",
        "r=l.pop(3) #removing element in 3rd index position\n",
        "print(l)\n",
        "print(r) #printing the removed element\n",
        "\n",
        "l.remove(45) #we mention the value in remove() and not the index position\n",
        "print(l) #only one value will be removed\n",
        "l.remove(45)\n",
        "print(l)\n",
        "\n",
        "l.clear() #remove all the elements\n",
        "print(l)\n",
        "# del l\n",
        "print(l)"
      ],
      "metadata": {
        "colab": {
          "base_uri": "https://localhost:8080/"
        },
        "id": "FO5DcQdYxXWA",
        "outputId": "cc9055fc-f167-4e32-f259-5e88e239b34d"
      },
      "execution_count": null,
      "outputs": [
        {
          "output_type": "stream",
          "name": "stdout",
          "text": [
            "[3, 6, 80, 9, 45, 67, 45, 100, 200]\n",
            "[3, 6, 80, 9, 45, 67, 45, 100, 200, 300]\n",
            "----------------------\n",
            "[3, 6, 80, 9, 45, 67, 45, 100, 200, 300, 50, 60, 70, 80, 90]\n",
            "[3, 6, 80, 1000, 9, 45, 67, 45, 2000, 100, 200, 300, 50, 60, 70, 80, 90]\n",
            "[3, 6, 80, 3000, 9, 45, 67, 45, 2000, 100, 200, 300, 50, 60, 70, 80, 90]\n",
            "[3, 6, 80, 3000, 9, 45, 67, 45, 2000, 100, 200, 300, 50, 60, 70, 80]\n",
            "[3, 6, 80, 9, 45, 67, 45, 2000, 100, 200, 300, 50, 60, 70, 80]\n",
            "3000\n",
            "[3, 6, 80, 9, 67, 45, 2000, 100, 200, 300, 50, 60, 70, 80]\n",
            "[3, 6, 80, 9, 67, 2000, 100, 200, 300, 50, 60, 70, 80]\n",
            "[]\n",
            "[]\n"
          ]
        }
      ]
    },
    {
      "cell_type": "code",
      "source": [
        "l=[3,56,23,89,45,90]\n",
        "l.sort() #ascending order\n",
        "print(l)\n",
        "print(l[::-1])\n",
        "l.sort(reverse=True)\n",
        "print(l)\n",
        "\n",
        "print(l.index(56))\n",
        "print(l.count(89))\n",
        "\n",
        "l1=[1,2,3,4]\n",
        "l2=[5,6,7,8]\n",
        "print(l1+l2)\n",
        "print(l2+l1)"
      ],
      "metadata": {
        "colab": {
          "base_uri": "https://localhost:8080/"
        },
        "id": "vjagktiE0Vsf",
        "outputId": "0f83cd44-efed-47c4-970a-c686a1e38d60"
      },
      "execution_count": null,
      "outputs": [
        {
          "output_type": "stream",
          "name": "stdout",
          "text": [
            "[3, 23, 45, 56, 89, 90]\n",
            "[90, 89, 56, 45, 23, 3]\n",
            "[90, 89, 56, 45, 23, 3]\n",
            "2\n",
            "1\n",
            "[1, 2, 3, 4, 5, 6, 7, 8]\n",
            "[5, 6, 7, 8, 1, 2, 3, 4]\n"
          ]
        }
      ]
    },
    {
      "cell_type": "code",
      "source": [
        "#dictionaries - mutable\n",
        "d={\"emp_id\":101,\"name\":\"abc\"}\n",
        "print(d)\n",
        "d[\"email\"]=\"abc@gamil.com\"\n",
        "print(d)\n",
        "\n",
        "print(d[\"emp_id\"]) #here we give the key and get the value as result\n",
        "# print(d[\"contact\"]) # Will throw error if the key is not present\n",
        "\n",
        "print(d.get(\"emp_id\")) #here we give the key and get the value as result\n",
        "print(d.get(\"contact\")) # Will not throw error even if the key is not present, will return None"
      ],
      "metadata": {
        "colab": {
          "base_uri": "https://localhost:8080/"
        },
        "id": "yancQSKg1eiM",
        "outputId": "88bf25ed-5b9c-440e-97e4-35e78ec36e19"
      },
      "execution_count": null,
      "outputs": [
        {
          "output_type": "stream",
          "name": "stdout",
          "text": [
            "{'emp_id': 101, 'name': 'abc'}\n",
            "{'emp_id': 101, 'name': 'abc', 'email': 'abc@gamil.com'}\n",
            "101\n",
            "101\n",
            "None\n"
          ]
        }
      ]
    },
    {
      "cell_type": "code",
      "source": [
        "l1=[1,2,3,4,5,9]\n",
        "l2=[1,4,9,16,25]\n",
        "d=dict(zip(l2,l1))\n",
        "print(d)"
      ],
      "metadata": {
        "colab": {
          "base_uri": "https://localhost:8080/"
        },
        "id": "s5FXWUSv2TQu",
        "outputId": "745b89e0-8e11-40d1-a5cb-4acc30a90808"
      },
      "execution_count": null,
      "outputs": [
        {
          "output_type": "stream",
          "name": "stdout",
          "text": [
            "{1: 1, 4: 2, 9: 3, 16: 4, 25: 5}\n"
          ]
        }
      ]
    },
    {
      "cell_type": "code",
      "source": [
        "d1={1:1,2:4,3:9,4:16}\n",
        "d2={5:25,6:36,7:49}\n",
        "d1.update(d2)\n",
        "print(d1)\n",
        "print(d2)\n",
        "d3={1:1,2:4,3:9,4:16}\n",
        "d4={5:25,6:36,7:49}\n",
        "d4.update(d3)\n",
        "print(d3)\n",
        "print(d4)\n",
        "\n",
        "r=d4.pop(7) #we mention the key\n",
        "print(d4)\n",
        "print(r) #value popped\n",
        "d4.popitem() #remove last key value pair\n",
        "print(d4)\n",
        "d4.clear()\n",
        "print(d4)\n",
        "# del d4\n",
        "print(d4)"
      ],
      "metadata": {
        "colab": {
          "base_uri": "https://localhost:8080/"
        },
        "id": "gd_6xQ2t2wV5",
        "outputId": "40c0bb7c-a9ee-4041-bc1f-5aad75c91c43"
      },
      "execution_count": null,
      "outputs": [
        {
          "output_type": "stream",
          "name": "stdout",
          "text": [
            "{1: 1, 2: 4, 3: 9, 4: 16, 5: 25, 6: 36, 7: 49}\n",
            "{5: 25, 6: 36, 7: 49}\n",
            "{1: 1, 2: 4, 3: 9, 4: 16}\n",
            "{5: 25, 6: 36, 7: 49, 1: 1, 2: 4, 3: 9, 4: 16}\n",
            "{5: 25, 6: 36, 1: 1, 2: 4, 3: 9, 4: 16}\n",
            "49\n",
            "{5: 25, 6: 36, 1: 1, 2: 4, 3: 9}\n",
            "{}\n",
            "{}\n"
          ]
        }
      ]
    },
    {
      "cell_type": "code",
      "source": [
        "#sets - mutable\n",
        "s={10,20,30,40}\n",
        "s.add(60)\n",
        "print(s)\n",
        "\n",
        "\n",
        "s1={10,20,40,60,70,90,30,30,110}\n",
        "s2={10,90,50,40,100,110,100}\n",
        "print(s1)\n",
        "print(s2)\n",
        "\n",
        "s3=s1.union(s2) # unique values from both the sets\n",
        "print(s3)\n",
        "\n",
        "s4=s1.intersection(s2) #values common in both sets\n",
        "print(s4)\n",
        "\n",
        "s5=s1.difference(s2) # values in s1 but not in s2\n",
        "print(s5)\n",
        "\n",
        "s6=s2.difference(s1) # values in s2 but not in s1\n",
        "print(s6)\n",
        "\n",
        "s7=s1.symmetric_difference(s2) # returns the non-common elements of both sets\n",
        "print(s7)"
      ],
      "metadata": {
        "colab": {
          "base_uri": "https://localhost:8080/"
        },
        "id": "o-2wtXiA39tL",
        "outputId": "9fc6eab9-d485-4bac-87a8-c3ffcc6894f7"
      },
      "execution_count": null,
      "outputs": [
        {
          "output_type": "stream",
          "name": "stdout",
          "text": [
            "{40, 10, 20, 60, 30}\n",
            "{70, 40, 10, 110, 20, 90, 60, 30}\n",
            "{50, 100, 90, 40, 10, 110}\n",
            "{100, 70, 40, 10, 110, 50, 20, 90, 60, 30}\n",
            "{40, 90, 10, 110}\n",
            "{20, 30, 70, 60}\n",
            "{50, 100}\n",
            "{100, 70, 50, 20, 60, 30}\n"
          ]
        }
      ]
    },
    {
      "cell_type": "code",
      "source": [
        "l=[1,2,3,4,455,4,23,2,1,6,7,8,9,5,4,3]\n",
        "s=set(l)\n",
        "print(s)\n",
        "l1=list(s)\n",
        "print(l1)"
      ],
      "metadata": {
        "colab": {
          "base_uri": "https://localhost:8080/"
        },
        "id": "YaVs-3-V5lG9",
        "outputId": "99098b24-b8b5-4407-fcd5-b8d5a3d4516a"
      },
      "execution_count": null,
      "outputs": [
        {
          "output_type": "stream",
          "name": "stdout",
          "text": [
            "{1, 2, 3, 4, 5, 6, 455, 7, 8, 9, 23}\n",
            "[1, 2, 3, 4, 5, 6, 455, 7, 8, 9, 23]\n"
          ]
        }
      ]
    },
    {
      "cell_type": "code",
      "source": [
        "a=int(input(\"Enter a number\"))\n",
        "b=int(input(\"Enter a number\"))\n",
        "print(type(a))\n",
        "print(a+b)"
      ],
      "metadata": {
        "colab": {
          "base_uri": "https://localhost:8080/"
        },
        "id": "cejmBQ0S6Gjo",
        "outputId": "aa0cb750-3c37-413d-a8dc-cdf3191a1544"
      },
      "execution_count": null,
      "outputs": [
        {
          "output_type": "stream",
          "name": "stdout",
          "text": [
            "Enter a number3\n",
            "Enter a number7\n",
            "<class 'int'>\n",
            "10\n"
          ]
        }
      ]
    },
    {
      "cell_type": "code",
      "source": [
        "#Write a program to input the side of a square and print its area and perimeter\n",
        "#area=s*s\n",
        "#perimeter=4*s\n",
        "s=int(input(\"Enter the side of square\"))\n",
        "area=s*s\n",
        "perimeter=4*s\n",
        "print(\"Area of square=\",area)\n",
        "print(\"Perimeter of square=\",perimeter)"
      ],
      "metadata": {
        "colab": {
          "base_uri": "https://localhost:8080/"
        },
        "id": "AaBckoNXqGCM",
        "outputId": "b64cbe7f-8dde-433e-e43c-3c7d73e78bb1"
      },
      "execution_count": null,
      "outputs": [
        {
          "output_type": "stream",
          "name": "stdout",
          "text": [
            "Enter the side of square100\n",
            "Area of square= 10000\n",
            "Perimeter of square= 400\n"
          ]
        }
      ]
    },
    {
      "cell_type": "code",
      "source": [
        "# WAP to enter a number check if it is greater than 100.\n",
        "n=int(input(\"enter a number\"))\n",
        "if n>100:\n",
        "  print(n, \"ïs greater than 100\")\n",
        "else:\n",
        "  print(n, \"is less than 100\")\n",
        "print(\"Thankyou\")"
      ],
      "metadata": {
        "colab": {
          "base_uri": "https://localhost:8080/"
        },
        "id": "F0tJMxK6uJgi",
        "outputId": "189e427b-819a-4274-e676-3984ebc256be"
      },
      "execution_count": null,
      "outputs": [
        {
          "output_type": "stream",
          "name": "stdout",
          "text": [
            "enter a number5645\n",
            "5645 ïs greater than 100\n",
            "Thankyou\n"
          ]
        }
      ]
    },
    {
      "cell_type": "code",
      "source": [
        "# WAP to input 2 numbers and print the largest\n",
        "# WAP to input 2 numbers and print the largest\n",
        "n=int(input(\"Enter a number\"))\n",
        "m=int(input(\"Enter another numeber\"))\n",
        "if n>m:\n",
        "  print(n)\n",
        "else:\n",
        "  print(m)"
      ],
      "metadata": {
        "colab": {
          "base_uri": "https://localhost:8080/"
        },
        "id": "XmHack2bvtGf",
        "outputId": "a03b6859-f600-4136-ace0-e9d2d7d69dab"
      },
      "execution_count": null,
      "outputs": [
        {
          "output_type": "stream",
          "name": "stdout",
          "text": [
            "Enter a number45\n",
            "Enter another numeber54\n",
            "54\n"
          ]
        }
      ]
    },
    {
      "cell_type": "code",
      "source": [
        "# WAP to input a number and check if it is a 3 digit number or not\n",
        "n=int(input(\"Enter a number\"))\n",
        "if n>99 and n<1000:\n",
        "  print(\"3 digit\")\n",
        "else:\n",
        "  print(\"Not 3 digit\")"
      ],
      "metadata": {
        "colab": {
          "base_uri": "https://localhost:8080/"
        },
        "id": "-q64HELVw2xz",
        "outputId": "1c004d09-9f20-4caf-8c01-dbadb204a26d"
      },
      "execution_count": null,
      "outputs": [
        {
          "output_type": "stream",
          "name": "stdout",
          "text": [
            "Enter a number876976\n",
            "Not 3 digit\n"
          ]
        }
      ]
    },
    {
      "cell_type": "code",
      "source": [
        "# WAP to input a number and check if it is odd or even\n",
        "# if a number is completely divisible by 2 - even -divide any nymber by 2, remainder is 0\n",
        "# odd - divide any nymber by 2, remainder is 1\n",
        "n=int(input(\"Enter a number\"))\n",
        "if n%2==0:\n",
        "  print(\"Even\")\n",
        "else:\n",
        "  print(\"Odd\")"
      ],
      "metadata": {
        "colab": {
          "base_uri": "https://localhost:8080/"
        },
        "id": "PG7RI1lPxq6I",
        "outputId": "1264447a-9bec-4c0e-fabe-f15dc07091ad"
      },
      "execution_count": null,
      "outputs": [
        {
          "output_type": "stream",
          "name": "stdout",
          "text": [
            "Enter a number65\n",
            "Odd\n"
          ]
        }
      ]
    },
    {
      "cell_type": "code",
      "source": [
        "# WAP to input a number and check if it is odd or even\n",
        "# if a number is completely divisible by 2 - even -divide any nymber by 2, remainder is 0\n",
        "# odd - divide any nymber by 2, remainder is 1\n",
        "n=int(input(\"Enter a number\"))\n",
        "if n%2!=0:\n",
        "  print(\"Odd\")\n",
        "else:\n",
        "  print(\"Even\")"
      ],
      "metadata": {
        "colab": {
          "base_uri": "https://localhost:8080/"
        },
        "id": "-TQ_24H2yGiV",
        "outputId": "f72cbc35-9c08-4012-fd6b-4aee012e08e8"
      },
      "execution_count": null,
      "outputs": [
        {
          "output_type": "stream",
          "name": "stdout",
          "text": [
            "Enter a number56\n",
            "Even\n"
          ]
        }
      ]
    },
    {
      "cell_type": "code",
      "source": [
        "# WAP to input a number and check if it is odd or even\n",
        "# if a number is completely divisible by 2 - even -divide any nymber by 2, remainder is 0\n",
        "# odd - divide any nymber by 2, remainder is 1\n",
        "n=int(input(\"Enter a number\"))\n",
        "if n%2==1:\n",
        "  print(\"Odd\")\n",
        "else:\n",
        "  print(\"Even\")"
      ],
      "metadata": {
        "colab": {
          "base_uri": "https://localhost:8080/"
        },
        "id": "mdbo3XEiyVs0",
        "outputId": "34d0da2a-fd4f-4605-f053-0ad4cad2bdd0"
      },
      "execution_count": null,
      "outputs": [
        {
          "output_type": "stream",
          "name": "stdout",
          "text": [
            "Enter a number56\n",
            "Even\n"
          ]
        }
      ]
    },
    {
      "cell_type": "code",
      "source": [
        "#Write a program to input a number and check if it is positive, negative or zero\n",
        "n=int(input(\"Enter a number\"))\n",
        "if n>0:\n",
        "  print(\"positive\")\n",
        "elif n<0:\n",
        "  print(\"negative\")\n",
        "else:\n",
        "  print(\"zero\")"
      ],
      "metadata": {
        "colab": {
          "base_uri": "https://localhost:8080/"
        },
        "id": "LGvx-pQCzQaN",
        "outputId": "0607cd84-d85a-48c6-d2d1-265533b923ea"
      },
      "execution_count": null,
      "outputs": [
        {
          "output_type": "stream",
          "name": "stdout",
          "text": [
            "Enter a number0\n",
            "zero\n"
          ]
        }
      ]
    },
    {
      "cell_type": "code",
      "source": [
        "for i in range(5): # 0-4\n",
        "  print(\"Hai\")\n",
        "  print(i)\n"
      ],
      "metadata": {
        "colab": {
          "base_uri": "https://localhost:8080/"
        },
        "id": "N-Qw7Tu71Q89",
        "outputId": "aa807cf5-0a72-447c-e0a3-9cc09447d2ef"
      },
      "execution_count": null,
      "outputs": [
        {
          "output_type": "stream",
          "name": "stdout",
          "text": [
            "Hai\n",
            "0\n",
            "Hai\n",
            "1\n",
            "Hai\n",
            "2\n",
            "Hai\n",
            "3\n",
            "Hai\n",
            "4\n"
          ]
        }
      ]
    },
    {
      "cell_type": "code",
      "source": [
        "for i in range(10,100):\n",
        "  print(i,end=\",\")\n",
        "print(\"\\n\") #bring the cursor to the next line\n",
        "for i in range(1,100):\n",
        "  if(i%2==0):\n",
        "    print(i, end=\",\")\n",
        "\n",
        "print(\"\\n\") #bring the cursor to the next line\n",
        "for i in range(2,101,2):\n",
        "  print(i,end=\",\")"
      ],
      "metadata": {
        "colab": {
          "base_uri": "https://localhost:8080/"
        },
        "id": "riHNQ-oI13z9",
        "outputId": "60dbd6ff-a58c-421c-a3c3-6639cb2256b2"
      },
      "execution_count": null,
      "outputs": [
        {
          "output_type": "stream",
          "name": "stdout",
          "text": [
            "10,11,12,13,14,15,16,17,18,19,20,21,22,23,24,25,26,27,28,29,30,31,32,33,34,35,36,37,38,39,40,41,42,43,44,45,46,47,48,49,50,51,52,53,54,55,56,57,58,59,60,61,62,63,64,65,66,67,68,69,70,71,72,73,74,75,76,77,78,79,80,81,82,83,84,85,86,87,88,89,90,91,92,93,94,95,96,97,98,99,\n",
            "\n",
            "2,4,6,8,10,12,14,16,18,20,22,24,26,28,30,32,34,36,38,40,42,44,46,48,50,52,54,56,58,60,62,64,66,68,70,72,74,76,78,80,82,84,86,88,90,92,94,96,98,\n",
            "\n",
            "2,4,6,8,10,12,14,16,18,20,22,24,26,28,30,32,34,36,38,40,42,44,46,48,50,52,54,56,58,60,62,64,66,68,70,72,74,76,78,80,82,84,86,88,90,92,94,96,98,100,"
          ]
        }
      ]
    },
    {
      "cell_type": "code",
      "source": [
        "# WAP print the sum of 1st 10 number (1 to 10)\n",
        "sum=0\n",
        "for i in range(1,11):\n",
        "  sum=sum+i #0+1=1+2=3+3=6\n",
        "print(sum)"
      ],
      "metadata": {
        "colab": {
          "base_uri": "https://localhost:8080/"
        },
        "id": "qaykr27A5RVa",
        "outputId": "b9fcc2b7-8493-4edb-b7a2-9ea47c8fd89a"
      },
      "execution_count": null,
      "outputs": [
        {
          "output_type": "stream",
          "name": "stdout",
          "text": [
            "55\n"
          ]
        }
      ]
    },
    {
      "cell_type": "code",
      "source": [
        "# WAP print the product of 1st 10 number (1 to 10)\n",
        "# WAP print the sum of 1st 10 number (1 to 10)\n",
        "sum=1\n",
        "for i in range(1,11):\n",
        "  sum=sum*i #0+1=1+2=3+3=6\n",
        "print(sum)"
      ],
      "metadata": {
        "colab": {
          "base_uri": "https://localhost:8080/"
        },
        "id": "oaJsZCWx6Fds",
        "outputId": "c478be78-8375-4cea-9ac8-76facf4321f2"
      },
      "execution_count": null,
      "outputs": [
        {
          "output_type": "stream",
          "name": "stdout",
          "text": [
            "3628800\n"
          ]
        }
      ]
    },
    {
      "cell_type": "code",
      "source": [
        "#WAP to input a number and print the factors of it.\n",
        "#6=1,2,3,6\n",
        "#8=1,2,4,8\n",
        "n=int(input(\"Enter a number\"))\n",
        "for i in range(1,n+1):\n",
        "  if n%i==0:\n",
        "    print(i, end=\" \")"
      ],
      "metadata": {
        "colab": {
          "base_uri": "https://localhost:8080/"
        },
        "id": "N7gz2l9A7Q7I",
        "outputId": "8d4b7098-ad50-4cfb-ff1f-c2a754679eee"
      },
      "execution_count": null,
      "outputs": [
        {
          "output_type": "stream",
          "name": "stdout",
          "text": [
            "Enter a number1000\n",
            "1 2 4 5 8 10 20 25 40 50 100 125 200 250 500 1000 "
          ]
        }
      ]
    },
    {
      "cell_type": "code",
      "source": [
        "#WAP to input a number and check if it is prime or not\n",
        "#3, 7, 9, 11\n",
        "# it will have only 2 factors\n",
        "count=0\n",
        "n=int(input(\"Enter a number\"))\n",
        "for i in range(1,n+1):\n",
        "  if n%i==0:\n",
        "   count=count+1\n",
        "if count==2:\n",
        "  print(\"Prime\")\n",
        "else:\n",
        "  print(\" not Prime\")"
      ],
      "metadata": {
        "colab": {
          "base_uri": "https://localhost:8080/"
        },
        "id": "ZMlqVDEj8JN8",
        "outputId": "a6d42249-fdf4-4876-a33c-900f68ac8fee"
      },
      "execution_count": null,
      "outputs": [
        {
          "output_type": "stream",
          "name": "stdout",
          "text": [
            "Enter a number89\n",
            "Prime\n"
          ]
        }
      ]
    },
    {
      "cell_type": "code",
      "source": [
        "#WAP to input a number and print the factorial of it\n",
        "# factorial of 5=1x2x3x4x5\n",
        "# factorial of 3=1x2x3\n",
        "fact=1\n",
        "n=int(input(\"Enter a number\"))\n",
        "for i in range(1,n+1):\n",
        "  fact=fact*i\n",
        "print(fact)"
      ],
      "metadata": {
        "colab": {
          "base_uri": "https://localhost:8080/"
        },
        "id": "mB--Vr_z-V4w",
        "outputId": "3e5b04f2-a8b1-4630-d261-d11cb18d7977"
      },
      "execution_count": null,
      "outputs": [
        {
          "output_type": "stream",
          "name": "stdout",
          "text": [
            "Enter a number45\n",
            "119622220865480194561963161495657715064383733760000000000\n"
          ]
        }
      ]
    },
    {
      "cell_type": "code",
      "source": [
        "# WAP to iterate from 1 to 50.For multiples of 3 print \"Fizz\", for multiples of 5 print \"Buzz\" and for multiples of both 3 and 5 print \"FizzBuzz\" for other numbers print the number\n",
        "# 1\n",
        "# 2\n",
        "# Fizz\n",
        "# 4\n",
        "# Buzz\n",
        "# Fizz\n",
        "for i in range(1,51):\n",
        "  if i%3==0 and i%5==0:\n",
        "    print(\"FizzBuzz\")\n",
        "  elif i%5==0:\n",
        "    print(\"Buzz\")\n",
        "  elif i%3==0:\n",
        "    print(\"Fizz\")\n",
        "  else:\n",
        "    print(i)"
      ],
      "metadata": {
        "colab": {
          "base_uri": "https://localhost:8080/"
        },
        "id": "cv-nsRNW_5HS",
        "outputId": "6e992588-a75a-4a94-b6fa-b9d02c093c08"
      },
      "execution_count": null,
      "outputs": [
        {
          "output_type": "stream",
          "name": "stdout",
          "text": [
            "1\n",
            "2\n",
            "Fizz\n",
            "4\n",
            "Buzz\n",
            "Fizz\n",
            "7\n",
            "8\n",
            "Fizz\n",
            "Buzz\n",
            "11\n",
            "Fizz\n",
            "13\n",
            "14\n",
            "FizzBuzz\n",
            "16\n",
            "17\n",
            "Fizz\n",
            "19\n",
            "Buzz\n",
            "Fizz\n",
            "22\n",
            "23\n",
            "Fizz\n",
            "Buzz\n",
            "26\n",
            "Fizz\n",
            "28\n",
            "29\n",
            "FizzBuzz\n",
            "31\n",
            "32\n",
            "Fizz\n",
            "34\n",
            "Buzz\n",
            "Fizz\n",
            "37\n",
            "38\n",
            "Fizz\n",
            "Buzz\n",
            "41\n",
            "Fizz\n",
            "43\n",
            "44\n",
            "FizzBuzz\n",
            "46\n",
            "47\n",
            "Fizz\n",
            "49\n",
            "Buzz\n"
          ]
        }
      ]
    },
    {
      "cell_type": "code",
      "source": [
        "# WAP to input a number and print the sum of the digits of the number.\n",
        "#567=5+6+7=18\n",
        "n=int(input(\"Enter a number\"))\n",
        "sum=0 #to store the sum of digits\n",
        "while n>0: #567>0, 56>0, 5>0, 0>0\n",
        "  ld=n%10 #ld=7, ld=6, ld=5%10=5\n",
        "  sum=sum+ld #0=0+7=7+6=13+5=18\n",
        "  n=n//10 #n=56, n=5, n=0\n",
        "print(\"sum=\",sum)"
      ],
      "metadata": {
        "id": "18Ql8ghEAdPi",
        "colab": {
          "base_uri": "https://localhost:8080/"
        },
        "outputId": "a912f155-310e-470a-bc75-1b8c20fc7035"
      },
      "execution_count": null,
      "outputs": [
        {
          "output_type": "stream",
          "name": "stdout",
          "text": [
            "Enter a number567\n",
            "sum= 18\n"
          ]
        }
      ]
    },
    {
      "cell_type": "code",
      "source": [
        "#Write a program to input a number and check if the number if spy number or not\n",
        "#A number is said to be a spy number is the sum of the digits = product of the digits\n",
        "#1124= 1+1+2+4=8 1X1X2X4=8\n",
        "n=int(input(\"Enter a number\"))\n",
        "sum=0\n",
        "pro=1\n",
        "while n>0:\n",
        "  ld=n%10\n",
        "  sum=sum+ld\n",
        "  pro=pro*ld\n",
        "  n=n//10\n",
        "print(sum)\n",
        "print(pro)\n",
        "if sum==pro:\n",
        "  print(\"spy number\")\n",
        "else:\n",
        "  print(\"not a spy number\")\n"
      ],
      "metadata": {
        "colab": {
          "base_uri": "https://localhost:8080/"
        },
        "id": "6NfvzAhz7u7R",
        "outputId": "da131144-bde2-4e45-e0f5-53f27957cf35"
      },
      "execution_count": null,
      "outputs": [
        {
          "output_type": "stream",
          "name": "stdout",
          "text": [
            "Enter a number1214\n",
            "8\n",
            "8\n",
            "spy number\n"
          ]
        }
      ]
    },
    {
      "cell_type": "code",
      "source": [
        "# WAP to input a number and print the product of the digits of the number.\n",
        "#567=5*6*7\n",
        "# WAP to input a number and print the sum of the digits of the number.\n",
        "#567=5+6+7=18\n",
        "n=int(input(\"Enter a number\"))\n",
        "pro=1 #to store the sum of digits\n",
        "while n>0: #567>0, 56>0, 5>0, 0>0\n",
        "  ld=n%10 #ld=7, ld=6, ld=5%10=5\n",
        "  pro=pro*ld #0=0+7=7+6=13+5=18\n",
        "  n=n//10 #n=56, n=5, n=0\n",
        "print(\"product of the digits =\",pro)"
      ],
      "metadata": {
        "colab": {
          "base_uri": "https://localhost:8080/"
        },
        "id": "YE7Ep9mX41B8",
        "outputId": "acf2c92a-c235-464d-960b-7e920872457f"
      },
      "execution_count": null,
      "outputs": [
        {
          "output_type": "stream",
          "name": "stdout",
          "text": [
            "Enter a number34\n",
            "product of the digits = 12\n"
          ]
        }
      ]
    },
    {
      "cell_type": "code",
      "source": [
        "# WAP to input a number and check if the number is Duck number or not\n",
        "#Duck number is a positive number that has zeros in it but not in the beginning\n",
        "#1234=not duck\n",
        "#0435=not duck\n",
        "#87604=duck\n",
        "n=input(\"enter a number\")\n",
        "if n[0]=='0':\n",
        "  print(\"Not duck\")\n",
        "else:\n",
        "  if '0' in n:\n",
        "    print(\"duck\")\n",
        "  else:\n",
        "    print(\"Not duck\")"
      ],
      "metadata": {
        "colab": {
          "base_uri": "https://localhost:8080/"
        },
        "id": "K7POgrfuASCU",
        "outputId": "a70282c2-3b41-47c4-af46-6459f7719fa1"
      },
      "execution_count": null,
      "outputs": [
        {
          "output_type": "stream",
          "name": "stdout",
          "text": [
            "enter a number0765087\n",
            "Not duck\n"
          ]
        }
      ]
    },
    {
      "cell_type": "code",
      "source": [
        "n=input(\"enter a number\")\n",
        "if not n.isdigit() or int(n)<=0:\n",
        "  print(\"Enter a positive number\")\n",
        "elif n[0]=='0':\n",
        "  print(\"Not duck\")\n",
        "elif '0' in n:\n",
        "    print(\"duck\")\n",
        "else:\n",
        "    print(\"Not duck\")"
      ],
      "metadata": {
        "colab": {
          "base_uri": "https://localhost:8080/"
        },
        "id": "Tn5et5y9CiK0",
        "outputId": "2723aefe-2f2f-4a42-857a-1e6b389be3b9"
      },
      "execution_count": null,
      "outputs": [
        {
          "output_type": "stream",
          "name": "stdout",
          "text": [
            "enter a number-675\n",
            "Enter a positive number\n"
          ]
        }
      ]
    },
    {
      "cell_type": "code",
      "source": [
        "# # # # #\n",
        "# # # # #\n",
        "# # # # #\n",
        "# # # # #\n",
        "# 4 rows and 5 columns\n",
        "for i in range(10): #rows 0,1\n",
        "  for j in range(8): #columns 0,1\n",
        "    print(\"@\", end=\" \")\n",
        "  print() #go to the next line"
      ],
      "metadata": {
        "colab": {
          "base_uri": "https://localhost:8080/"
        },
        "id": "ox2M73C0Fles",
        "outputId": "241a10aa-251c-45a6-c800-ebfcfe018e2f"
      },
      "execution_count": null,
      "outputs": [
        {
          "output_type": "stream",
          "name": "stdout",
          "text": [
            "@ @ @ @ @ @ @ @ \n",
            "@ @ @ @ @ @ @ @ \n",
            "@ @ @ @ @ @ @ @ \n",
            "@ @ @ @ @ @ @ @ \n",
            "@ @ @ @ @ @ @ @ \n",
            "@ @ @ @ @ @ @ @ \n",
            "@ @ @ @ @ @ @ @ \n",
            "@ @ @ @ @ @ @ @ \n",
            "@ @ @ @ @ @ @ @ \n",
            "@ @ @ @ @ @ @ @ \n"
          ]
        }
      ]
    },
    {
      "cell_type": "code",
      "source": [
        "#      0-1\n",
        "# #     1-2\n",
        "# # #    2-3\n",
        "# # # #  3-4\n",
        "# # # # #   4-5\n",
        "for i in range(5): #rows 0\n",
        "  for j in range(i+1):\n",
        "    print(\"#\", end=\" \")\n",
        "  print()"
      ],
      "metadata": {
        "colab": {
          "base_uri": "https://localhost:8080/"
        },
        "id": "H0tLT4x5HB41",
        "outputId": "8aec3ed4-b19b-4c5e-b339-86c3c58a5da4"
      },
      "execution_count": null,
      "outputs": [
        {
          "output_type": "stream",
          "name": "stdout",
          "text": [
            "# \n",
            "# # \n",
            "# # # \n",
            "# # # # \n",
            "# # # # # \n"
          ]
        }
      ]
    },
    {
      "cell_type": "code",
      "source": [
        "for i in range(1,6): #rows 1\n",
        "  for j in range(i):\n",
        "    print(\"#\", end=\" \")\n",
        "  print()"
      ],
      "metadata": {
        "colab": {
          "base_uri": "https://localhost:8080/"
        },
        "id": "4005u6eyIJK2",
        "outputId": "6b653eb6-b83a-46df-f883-a99dba851002"
      },
      "execution_count": null,
      "outputs": [
        {
          "output_type": "stream",
          "name": "stdout",
          "text": [
            "# \n",
            "# # \n",
            "# # # \n",
            "# # # # \n",
            "# # # # # \n"
          ]
        }
      ]
    },
    {
      "cell_type": "code",
      "source": [
        "# 1\n",
        "# 1 2\n",
        "# 1 2 3\n",
        "# 1 2 3 4\n",
        "# 1 2 3 4 5\n",
        "for i in range(9): #0,1\n",
        "  for j in range(i+1): #0,1\n",
        "    print(j+1,end=\" \")\n",
        "  print()"
      ],
      "metadata": {
        "colab": {
          "base_uri": "https://localhost:8080/"
        },
        "id": "1ocT2GSxJOxG",
        "outputId": "cdfb7cf1-ef98-47dc-daa8-98c8383dcdb3"
      },
      "execution_count": null,
      "outputs": [
        {
          "output_type": "stream",
          "name": "stdout",
          "text": [
            "1 \n",
            "1 2 \n",
            "1 2 3 \n",
            "1 2 3 4 \n",
            "1 2 3 4 5 \n",
            "1 2 3 4 5 6 \n",
            "1 2 3 4 5 6 7 \n",
            "1 2 3 4 5 6 7 8 \n",
            "1 2 3 4 5 6 7 8 9 \n"
          ]
        }
      ]
    },
    {
      "cell_type": "code",
      "source": [
        "# 1\n",
        "# 2 2\n",
        "# 3 3 3\n",
        "# 4 4 4 4\n",
        "# 5 5 5 5 5\n",
        "for i in range(9):\n",
        "  for j in range(i+1):\n",
        "    print(i+1, end=\" \")\n",
        "  print()"
      ],
      "metadata": {
        "colab": {
          "base_uri": "https://localhost:8080/"
        },
        "id": "YEWGOl9OKINZ",
        "outputId": "928fdf73-692a-4f8e-9751-6535805ab836"
      },
      "execution_count": null,
      "outputs": [
        {
          "output_type": "stream",
          "name": "stdout",
          "text": [
            "1 \n",
            "2 2 \n",
            "3 3 3 \n",
            "4 4 4 4 \n",
            "5 5 5 5 5 \n",
            "6 6 6 6 6 6 \n",
            "7 7 7 7 7 7 7 \n",
            "8 8 8 8 8 8 8 8 \n",
            "9 9 9 9 9 9 9 9 9 \n"
          ]
        }
      ]
    },
    {
      "cell_type": "code",
      "source": [
        "#WAP to input a number and check if the number is special or not\n",
        "#special number- the sum of the factorial of the number = number\n",
        "#145=1!+4!+5!, 5!=1x2x3x4x5\n",
        "n=int(input(\"Enter a number\"))\n",
        "copy=n #145\n",
        "sum=0\n",
        "while n>0: #0\n",
        "  ld=n%10 #1\n",
        "  fact=1\n",
        "  for i in range(1,ld+1):\n",
        "    fact=fact*i #1\n",
        "  sum=sum+fact #120+24=144+1=145\n",
        "  n=n//10 #0\n",
        "if sum==copy:\n",
        "  print(\"Special number\")\n",
        "else:\n",
        "  print(\"Not a special number\")\n"
      ],
      "metadata": {
        "colab": {
          "base_uri": "https://localhost:8080/"
        },
        "id": "WTpZQ97h8zuk",
        "outputId": "e4447c02-3393-4ae6-d76e-1c6418fed28a"
      },
      "execution_count": null,
      "outputs": [
        {
          "output_type": "stream",
          "name": "stdout",
          "text": [
            "Enter a number145\n",
            "Special number\n"
          ]
        }
      ]
    },
    {
      "cell_type": "code",
      "source": [
        "def greet():\n",
        "  print(\"Hello welcome to python\")\n",
        "  print(\"Happy learning\")\n",
        "\n",
        "def sum1(x,y):\n",
        "  sum=x+y\n",
        "  print(\"sum=\",sum)\n",
        "\n",
        "def area(x):\n",
        "  area_of_square=x*x\n",
        "  return area_of_square\n",
        "\n",
        "\n",
        "greet()\n",
        "sum1(3,7)\n",
        "greet()\n",
        "sum1(100,99)\n",
        "a=area(5)\n",
        "print(a)\n",
        "x=int(input(\"Enter a number\"))\n",
        "a=area(x)\n",
        "print(a)"
      ],
      "metadata": {
        "colab": {
          "base_uri": "https://localhost:8080/"
        },
        "id": "jZI3cTsM_FAf",
        "outputId": "de73d787-b57b-455b-de3c-c6872fd19110"
      },
      "execution_count": null,
      "outputs": [
        {
          "output_type": "stream",
          "name": "stdout",
          "text": [
            "Hello welcome to python\n",
            "Happy learning\n",
            "sum= 10\n",
            "Hello welcome to python\n",
            "Happy learning\n",
            "sum= 199\n",
            "25\n",
            "Enter a number6\n",
            "36\n"
          ]
        }
      ]
    },
    {
      "cell_type": "code",
      "source": [
        "# Write a program using function to input the length and breadth of a rectangle and find its area and perimeter\n",
        "def area(l,b):\n",
        "  print(l*b)\n",
        "def peri(l,b):\n",
        "  print(2*(l+b))\n",
        "l=int(input(\"Enter the length of the rectangle\"))\n",
        "b=int(input(\"Enter the breadth of the rectangle\"))\n",
        "area(l,b)\n",
        "peri(l,b)"
      ],
      "metadata": {
        "colab": {
          "base_uri": "https://localhost:8080/"
        },
        "id": "Qc3GOgE4G4OZ",
        "outputId": "ba3e2759-6d4a-4bf5-8c8b-49fddb151ae8"
      },
      "execution_count": null,
      "outputs": [
        {
          "output_type": "stream",
          "name": "stdout",
          "text": [
            "Enter the length of the rectangle7\n",
            "Enter the breadth of the rectangle7\n",
            "49\n",
            "28\n"
          ]
        }
      ]
    },
    {
      "cell_type": "code",
      "source": [
        "# Write a program using function to input a number and check if it is prime or not\n",
        "def prime(n):\n",
        "  count=0\n",
        "  for i in range(1,n+1):\n",
        "    if(n%i==0):\n",
        "      count=count+1\n",
        "  if count==2:\n",
        "    print(\"Prime\")\n",
        "  else:\n",
        "    print(\"not Prime\")\n",
        "n=int(input(\"Enter a number\"))\n",
        "prime(n)\n",
        "prime(45)\n",
        "prime(98)\n",
        "prime(65)"
      ],
      "metadata": {
        "colab": {
          "base_uri": "https://localhost:8080/"
        },
        "id": "BFmOk3ecKgNa",
        "outputId": "60d13c4b-7b4d-4339-f01f-a7f8ff9a0634"
      },
      "execution_count": null,
      "outputs": [
        {
          "output_type": "stream",
          "name": "stdout",
          "text": [
            "Enter a number38\n",
            "not Prime\n",
            "not Prime\n",
            "not Prime\n",
            "not Prime\n"
          ]
        }
      ]
    },
    {
      "cell_type": "code",
      "source": [
        "# Write a program to input 3 numbers and print the largest among the three numbers using if else\n",
        "n1=int(input(\"Enter a number\"))\n",
        "n2=int(input(\"Enter a number\"))\n",
        "n3=int(input(\"Enter a number\"))\n",
        "\n",
        "#3,4,5\n",
        "if n1>n2 and n1>n3:\n",
        "  print(n1)\n",
        "elif n2>n1 and n2>n3:\n",
        "  print(n2)\n",
        "else:\n",
        "  print(n3)"
      ],
      "metadata": {
        "colab": {
          "base_uri": "https://localhost:8080/"
        },
        "id": "oMHlC4ZzNPke",
        "outputId": "7c59e60e-a693-4b8d-c844-819b89972ec9"
      },
      "execution_count": null,
      "outputs": [
        {
          "output_type": "stream",
          "name": "stdout",
          "text": [
            "Enter a number3\n",
            "Enter a number5\n",
            "Enter a number4\n",
            "5\n"
          ]
        }
      ]
    },
    {
      "cell_type": "code",
      "source": [
        "#Write a program to input the age of a person and check if the person is eligible for voting\n",
        "n1=int(input(\"Enter you age\"))\n",
        "if n1>=18:\n",
        "  print(\"Eligible for voting\")\n",
        "else:\n",
        "  print(\" not Eligible for voting\")"
      ],
      "metadata": {
        "colab": {
          "base_uri": "https://localhost:8080/"
        },
        "id": "iTEvxb4xQkHZ",
        "outputId": "003de616-bff7-4934-b876-a2d099598ad0"
      },
      "execution_count": null,
      "outputs": [
        {
          "output_type": "stream",
          "name": "stdout",
          "text": [
            "Enter you age45\n",
            "Eligible for voting\n"
          ]
        }
      ]
    },
    {
      "cell_type": "code",
      "source": [
        "#Write a program to input a character and check if it is a vowel or not using function\n",
        "def vowelorconsonant(x):\n",
        "  if (x ==\"a\" or x ==\"e\" or x ==\"i\" or x ==\"o\" or x ==\"u\"):\n",
        "    print(\"vowel\")\n",
        "  else:\n",
        "    print(\"consonant\")\n",
        "\n",
        "c=input(\"enter a character\")\n",
        "vowelorconsonant(c.lower())"
      ],
      "metadata": {
        "colab": {
          "base_uri": "https://localhost:8080/"
        },
        "id": "MmLLqVshSPnY",
        "outputId": "4e21a406-5f88-4f62-d91d-57e6b240f33c"
      },
      "execution_count": null,
      "outputs": [
        {
          "output_type": "stream",
          "name": "stdout",
          "text": [
            "enter a characterT\n",
            "consonant\n"
          ]
        }
      ]
    },
    {
      "cell_type": "code",
      "source": [
        "#Write a program to print all the numbers divisible by both 3 and 5 in the range 1000 to 5000\n",
        "for i in range(1000,5001):\n",
        "  if i%3==0 and i%5==0:\n",
        "    print(i, end=\" \")"
      ],
      "metadata": {
        "colab": {
          "base_uri": "https://localhost:8080/"
        },
        "id": "7bcz9RXGVL87",
        "outputId": "5fb7c913-bb83-4b36-dc88-a2ff1734dc3f"
      },
      "execution_count": null,
      "outputs": [
        {
          "output_type": "stream",
          "name": "stdout",
          "text": [
            "1005 1020 1035 1050 1065 1080 1095 1110 1125 1140 1155 1170 1185 1200 1215 1230 1245 1260 1275 1290 1305 1320 1335 1350 1365 1380 1395 1410 1425 1440 1455 1470 1485 1500 1515 1530 1545 1560 1575 1590 1605 1620 1635 1650 1665 1680 1695 1710 1725 1740 1755 1770 1785 1800 1815 1830 1845 1860 1875 1890 1905 1920 1935 1950 1965 1980 1995 2010 2025 2040 2055 2070 2085 2100 2115 2130 2145 2160 2175 2190 2205 2220 2235 2250 2265 2280 2295 2310 2325 2340 2355 2370 2385 2400 2415 2430 2445 2460 2475 2490 2505 2520 2535 2550 2565 2580 2595 2610 2625 2640 2655 2670 2685 2700 2715 2730 2745 2760 2775 2790 2805 2820 2835 2850 2865 2880 2895 2910 2925 2940 2955 2970 2985 3000 3015 3030 3045 3060 3075 3090 3105 3120 3135 3150 3165 3180 3195 3210 3225 3240 3255 3270 3285 3300 3315 3330 3345 3360 3375 3390 3405 3420 3435 3450 3465 3480 3495 3510 3525 3540 3555 3570 3585 3600 3615 3630 3645 3660 3675 3690 3705 3720 3735 3750 3765 3780 3795 3810 3825 3840 3855 3870 3885 3900 3915 3930 3945 3960 3975 3990 4005 4020 4035 4050 4065 4080 4095 4110 4125 4140 4155 4170 4185 4200 4215 4230 4245 4260 4275 4290 4305 4320 4335 4350 4365 4380 4395 4410 4425 4440 4455 4470 4485 4500 4515 4530 4545 4560 4575 4590 4605 4620 4635 4650 4665 4680 4695 4710 4725 4740 4755 4770 4785 4800 4815 4830 4845 4860 4875 4890 4905 4920 4935 4950 4965 4980 4995 "
          ]
        }
      ]
    },
    {
      "cell_type": "code",
      "source": [
        "#Write a program to input a number and print the corresponding day of the week\n",
        "#1=Monday\n",
        "#2=Tuesday...#7=Sunday\n",
        "#anyother number enter a number between 1 and 7\n",
        "n=int(input(\"Enter a number between 1 and 7\"))\n",
        "if n==1:\n",
        "  print(\"Monday\")\n",
        "elif n==2:\n",
        "  print(\"Tuesday\")\n",
        "elif n==3:\n",
        "  print(\"Wednesday\")\n",
        "elif n==4:\n",
        "  print(\"Thursday\")\n",
        "elif n==5:\n",
        "  print(\"Friday\")\n",
        "elif n==6:\n",
        "  print(\"Saturday\")\n",
        "elif n==7:\n",
        "  print(\"sunday\")\n",
        "else:\n",
        "  print(\"Please enter a number between 1 and 7\")\n"
      ],
      "metadata": {
        "colab": {
          "base_uri": "https://localhost:8080/"
        },
        "id": "Lhrb6Ax6Wuy4",
        "outputId": "43f1139d-a7b9-4ba4-a80f-f97409e6a83d"
      },
      "execution_count": null,
      "outputs": [
        {
          "output_type": "stream",
          "name": "stdout",
          "text": [
            "Enter a number between 1 and 710\n",
            "Please enter a number between 1 and 7\n"
          ]
        }
      ]
    },
    {
      "cell_type": "code",
      "source": [],
      "metadata": {
        "id": "pla70lvwW2t9"
      },
      "execution_count": null,
      "outputs": []
    }
  ]
}